{
 "cells": [
  {
   "cell_type": "markdown",
   "metadata": {},
   "source": [
    "# Import Packages"
   ]
  },
  {
   "cell_type": "code",
   "execution_count": 4,
   "metadata": {},
   "outputs": [],
   "source": [
    "import pandas as pd\n",
    "import seaborn as sns\n",
    "import matplotlib.pyplot as plt\n",
    "\n",
    "from sklearn.pipeline import Pipeline\n",
    "from sklearn.model_selection import train_test_split, GridSearchCV\n",
    "from sklearn.linear_model import LogisticRegression\n",
    "from sklearn.feature_extraction.text import CountVectorizer, TfidfVectorizer\n",
    "from sklearn.naive_bayes import BernoulliNB, MultinomialNB\n",
    "from sklearn.metrics import confusion_matrix, accuracy_score\n",
    "from sklearn.compose import ColumnTransformer\n",
    "\n",
    "from sklearn.ensemble import AdaBoostClassifier, GradientBoostingClassifier, VotingClassifier\n",
    "from sklearn.tree import DecisionTreeClassifier\n",
    "\n",
    "%matplotlib inline"
   ]
  },
  {
   "cell_type": "markdown",
   "metadata": {},
   "source": [
    "## Import Data"
   ]
  },
  {
   "cell_type": "code",
   "execution_count": 5,
   "metadata": {},
   "outputs": [],
   "source": [
    "df = pd.read_csv(\"../data/combined.csv\", index_col = \"Unnamed: 0\")"
   ]
  },
  {
   "cell_type": "code",
   "execution_count": 6,
   "metadata": {},
   "outputs": [],
   "source": [
    "df[\"target\"] = pd.get_dummies(df[\"subreddit\"], drop_first=True)"
   ]
  },
  {
   "cell_type": "code",
   "execution_count": 7,
   "metadata": {},
   "outputs": [
    {
     "data": {
      "text/plain": [
       "1    0.500305\n",
       "0    0.499695\n",
       "Name: target, dtype: float64"
      ]
     },
     "execution_count": 7,
     "metadata": {},
     "output_type": "execute_result"
    }
   ],
   "source": [
    "df[\"target\"].value_counts(normalize = True)"
   ]
  },
  {
   "cell_type": "markdown",
   "metadata": {},
   "source": [
    "# Model Building"
   ]
  },
  {
   "cell_type": "markdown",
   "metadata": {},
   "source": [
    "## Define Functions"
   ]
  },
  {
   "cell_type": "code",
   "execution_count": 8,
   "metadata": {},
   "outputs": [],
   "source": [
    "def fit_model(model, X, y):\n",
    "    \n",
    "    # Train-test-split\n",
    "    X_train, X_test, y_train, y_test = train_test_split(X, y, random_state = 42, stratify = y)\n",
    "    \n",
    "    # Fit the model\n",
    "    model.fit(X_train, y_train)\n",
    "    \n",
    "    # Best parameters\n",
    "    print(f\"Best Parameters: {model.best_params_}\")\n",
    "    print(\"\")\n",
    "\n",
    "    # Scores\n",
    "    print(f\"Best Model Score: {model.best_score_}\")\n",
    "    print(f\"Model Train Score: {model.score(X_train, y_train)}\")\n",
    "    print(f\"Model Test Score: {model.score(X_test, y_test)}\")\n",
    "    print(\"\")\n",
    "    \n",
    "    # Confusion Matrix\n",
    "    print(\"Confusion Matrix:\")\n",
    "\n",
    "    y_preds = model.predict(X_test)\n",
    "    con_mat = confusion_matrix(y_test, y_preds)\n",
    "    \n",
    "    print(con_mat)\n",
    "    \n",
    "    return model, model.score(X_train, y_train), model.score(X_test, y_test), con_mat"
   ]
  },
  {
   "cell_type": "markdown",
   "metadata": {},
   "source": [
    "# Logistic Regression Models"
   ]
  },
  {
   "cell_type": "markdown",
   "metadata": {},
   "source": [
    "### Logistic Regression and Count Vectorizer"
   ]
  },
  {
   "cell_type": "code",
   "execution_count": 9,
   "metadata": {},
   "outputs": [],
   "source": [
    "# Set features\n",
    "X = df[\"title\"]\n",
    "y = df[\"target\"]"
   ]
  },
  {
   "cell_type": "code",
   "execution_count": 10,
   "metadata": {},
   "outputs": [],
   "source": [
    "# Instantiate a Pipeline to examine CV and LogReg\n",
    "pipe_cv = Pipeline([\n",
    "    (\"cvec\", CountVectorizer()),\n",
    "    (\"lr\", LogisticRegression(solver = \"lbfgs\"))\n",
    "])\n",
    "\n",
    "# Search over hyperparameters\n",
    "cv_params = {\n",
    "    \"cvec__max_features\" : [2000, 2500, 3000],\n",
    "    \"cvec__stop_words\" : [\"english\", None],\n",
    "    \"cvec__min_df\" : [1, 2],\n",
    "    \"cvec__max_df\" : [.8, .9],\n",
    "    \"cvec__ngram_range\" : [(1, 1), (1, 2)]\n",
    "}\n",
    "\n",
    "# Instantiate GridSearchCV\n",
    "grid_cv = GridSearchCV(pipe_cv,\n",
    "                       cv_params,\n",
    "                       cv = 3)"
   ]
  },
  {
   "cell_type": "code",
   "execution_count": 11,
   "metadata": {
    "scrolled": false
   },
   "outputs": [
    {
     "name": "stderr",
     "output_type": "stream",
     "text": [
      "//anaconda3/envs/dsi/lib/python3.7/site-packages/sklearn/linear_model/logistic.py:947: ConvergenceWarning: lbfgs failed to converge. Increase the number of iterations.\n",
      "  \"of iterations.\", ConvergenceWarning)\n",
      "//anaconda3/envs/dsi/lib/python3.7/site-packages/sklearn/linear_model/logistic.py:947: ConvergenceWarning: lbfgs failed to converge. Increase the number of iterations.\n",
      "  \"of iterations.\", ConvergenceWarning)\n",
      "//anaconda3/envs/dsi/lib/python3.7/site-packages/sklearn/linear_model/logistic.py:947: ConvergenceWarning: lbfgs failed to converge. Increase the number of iterations.\n",
      "  \"of iterations.\", ConvergenceWarning)\n",
      "//anaconda3/envs/dsi/lib/python3.7/site-packages/sklearn/linear_model/logistic.py:947: ConvergenceWarning: lbfgs failed to converge. Increase the number of iterations.\n",
      "  \"of iterations.\", ConvergenceWarning)\n"
     ]
    },
    {
     "name": "stdout",
     "output_type": "stream",
     "text": [
      "Best Parameters: {'cvec__max_df': 0.8, 'cvec__max_features': 3000, 'cvec__min_df': 2, 'cvec__ngram_range': (1, 1), 'cvec__stop_words': 'english'}\n",
      "\n",
      "Best Model Score: 0.7045577862181226\n",
      "Model Train Score: 0.8421052631578947\n",
      "Model Test Score: 0.7034174125305126\n",
      "\n",
      "Confusion Matrix:\n",
      "[[879 349]\n",
      " [380 850]]\n"
     ]
    }
   ],
   "source": [
    "# Get metrics\n",
    "model_lrcv, lrcv_train, lrcv_test, con_mat_lrcv = fit_model(grid_cv, X, y)\n",
    "\n",
    "# Save best LR-CV model\n",
    "cv_lr = model_lrcv.best_estimator_"
   ]
  },
  {
   "cell_type": "markdown",
   "metadata": {},
   "source": [
    "### Logistic Regression and TFIDF"
   ]
  },
  {
   "cell_type": "code",
   "execution_count": 12,
   "metadata": {},
   "outputs": [],
   "source": [
    "# Instantiate a Pipeline to examine TFIDF and LogReg\n",
    "pipe_tf = Pipeline([\n",
    "    (\"tf\", TfidfVectorizer()),\n",
    "    (\"lr\", LogisticRegression(solver = \"lbfgs\"))\n",
    "])\n",
    "\n",
    "# Search over hyperparameters\n",
    "tf_params = {\n",
    "    \"tf__max_features\" : [4000, 4500, 5000],\n",
    "    \"tf__stop_words\" : [\"english\", None],\n",
    "    \"tf__ngram_range\" : [(1, 1), (1, 2)]\n",
    "}\n",
    "\n",
    "# Instantiate GridSearchCV\n",
    "grid_tf = GridSearchCV(pipe_tf,\n",
    "                       tf_params,\n",
    "                       cv = 3)"
   ]
  },
  {
   "cell_type": "code",
   "execution_count": 13,
   "metadata": {},
   "outputs": [
    {
     "name": "stdout",
     "output_type": "stream",
     "text": [
      "Best Parameters: {'tf__max_features': 5000, 'tf__ngram_range': (1, 2), 'tf__stop_words': 'english'}\n",
      "\n",
      "Best Model Score: 0.7154096581660336\n",
      "Model Train Score: 0.8267769940314704\n",
      "Model Test Score: 0.7127746135069162\n",
      "\n",
      "Confusion Matrix:\n",
      "[[872 356]\n",
      " [350 880]]\n"
     ]
    }
   ],
   "source": [
    "# Fit model\n",
    "model_lrtf, lrtf_train, lrtf_test, con_mat_lrtf = fit_model(grid_tf, X, y)\n",
    "\n",
    "# Save best LR-CV model\n",
    "tf_lr = model_lrtf.best_estimator_"
   ]
  },
  {
   "cell_type": "markdown",
   "metadata": {},
   "source": [
    "# Naive Bayes Models"
   ]
  },
  {
   "cell_type": "markdown",
   "metadata": {},
   "source": [
    "### Bernoulli Naive Bayes and Count Vectorizer"
   ]
  },
  {
   "cell_type": "code",
   "execution_count": 14,
   "metadata": {},
   "outputs": [
    {
     "data": {
      "text/plain": [
       "BernoulliNB(alpha=1.0, binarize=0.0, class_prior=None, fit_prior=True)"
      ]
     },
     "execution_count": 14,
     "metadata": {},
     "output_type": "execute_result"
    }
   ],
   "source": [
    "X_train, X_test, y_train, y_test = train_test_split(X, y, random_state = 42, stratify = y)\n",
    "\n",
    "# Examine Bernoulli with Count Vectorizer\n",
    "bnb = BernoulliNB()\n",
    "cvec = CountVectorizer()\n",
    "\n",
    "X_train = cvec.fit_transform(X_train)\n",
    "X_test = cvec.transform(X_test)\n",
    "bnb.fit(X_train, y_train)"
   ]
  },
  {
   "cell_type": "code",
   "execution_count": 15,
   "metadata": {},
   "outputs": [
    {
     "name": "stdout",
     "output_type": "stream",
     "text": [
      "Model Train Score: 0.8492946283233858\n",
      "Model Test Score: 0.7205044751830757\n",
      "\n",
      "Confusion Matrix:\n",
      "[[883 345]\n",
      " [342 888]]\n"
     ]
    }
   ],
   "source": [
    "# Print Train and Test scores\n",
    "print(f\"Model Train Score: {bnb.score(X_train, y_train)}\")\n",
    "print(f\"Model Test Score: {bnb.score(X_test, y_test)}\")\n",
    "print(\"\")\n",
    "print(\"Confusion Matrix:\")\n",
    "bnb_train = bnb.score(X_train, y_train)\n",
    "bnb_test = bnb.score(X_test, y_test)\n",
    "\n",
    "y_preds = bnb.predict(X_test)\n",
    "con_mat_bnb = confusion_matrix(y_test, y_preds)\n",
    "print(con_mat_bnb)"
   ]
  },
  {
   "cell_type": "markdown",
   "metadata": {},
   "source": [
    "### Multinomial Naive Bayes and TFIDF"
   ]
  },
  {
   "cell_type": "code",
   "execution_count": 16,
   "metadata": {},
   "outputs": [],
   "source": [
    "# Reset the train test split that we changed in the last model\n",
    "X_train, X_test, y_train, y_test = train_test_split(X,\n",
    "                                                    y,\n",
    "                                                    random_state = 42,\n",
    "                                                    stratify = y)"
   ]
  },
  {
   "cell_type": "code",
   "execution_count": 17,
   "metadata": {},
   "outputs": [
    {
     "data": {
      "text/plain": [
       "MultinomialNB(alpha=1.0, class_prior=None, fit_prior=True)"
      ]
     },
     "execution_count": 17,
     "metadata": {},
     "output_type": "execute_result"
    }
   ],
   "source": [
    "# Examine Bernoulli with TFIDF\n",
    "mnb = MultinomialNB()\n",
    "tf = TfidfVectorizer()\n",
    "\n",
    "X_train = tf.fit_transform(X_train)\n",
    "X_test = tf.transform(X_test)\n",
    "mnb.fit(X_train, y_train)"
   ]
  },
  {
   "cell_type": "code",
   "execution_count": 18,
   "metadata": {},
   "outputs": [
    {
     "name": "stdout",
     "output_type": "stream",
     "text": [
      "Model Train Score: 0.855127509495388\n",
      "Model Test Score: 0.6977217249796582\n",
      "\n",
      "Confusion Matrix:\n",
      "[[719 509]\n",
      " [234 996]]\n"
     ]
    }
   ],
   "source": [
    "# Print Train and Test scores\n",
    "print(f\"Model Train Score: {mnb.score(X_train, y_train)}\")\n",
    "print(f\"Model Test Score: {mnb.score(X_test, y_test)}\")\n",
    "print(\"\")\n",
    "print(\"Confusion Matrix:\")\n",
    "mnb_train = mnb.score(X_train, y_train)\n",
    "mnb_test = mnb.score(X_test, y_test)\n",
    "\n",
    "y_preds = mnb.predict(X_test)\n",
    "con_mat_mnb = confusion_matrix(y_test, y_preds)\n",
    "print(con_mat_mnb)"
   ]
  },
  {
   "cell_type": "markdown",
   "metadata": {},
   "source": [
    "# Column Transform Logistic Regression"
   ]
  },
  {
   "cell_type": "markdown",
   "metadata": {},
   "source": [
    "### With Column Transform (Logistic Regression and TFIDF)"
   ]
  },
  {
   "cell_type": "code",
   "execution_count": 19,
   "metadata": {},
   "outputs": [],
   "source": [
    "# Set features\n",
    "X = df.drop([\"target\", \"subreddit\", \"domain\", \"lem_title\", \"stem_title\"], axis = 1)\n",
    "y = df[\"target\"]"
   ]
  },
  {
   "cell_type": "code",
   "execution_count": 20,
   "metadata": {},
   "outputs": [],
   "source": [
    "ct = ColumnTransformer([(\"tf\", TfidfVectorizer(), \"title\")], remainder = \"passthrough\")\n",
    "\n",
    "pipe = Pipeline([\n",
    "    (\"ct\", ct),\n",
    "    (\"lr\", LogisticRegression(solver = \"lbfgs\"))\n",
    "])\n",
    "\n",
    "# Search over hyperparameters\n",
    "params = {\n",
    "    \"ct__tf__max_features\" : [4000, 4500, 5000],\n",
    "    \"ct__tf__stop_words\" : [\"english\", None],\n",
    "    \"ct__tf__ngram_range\" : [(1, 1), (1, 2)]\n",
    "}\n",
    "\n",
    "# Instantiate GridSearchCV\n",
    "grid = GridSearchCV(pipe,\n",
    "                    params,\n",
    "                    scoring = \"accuracy\",\n",
    "                    cv = 3)"
   ]
  },
  {
   "cell_type": "code",
   "execution_count": 21,
   "metadata": {},
   "outputs": [
    {
     "name": "stderr",
     "output_type": "stream",
     "text": [
      "//anaconda3/envs/dsi/lib/python3.7/site-packages/sklearn/linear_model/logistic.py:947: ConvergenceWarning: lbfgs failed to converge. Increase the number of iterations.\n",
      "  \"of iterations.\", ConvergenceWarning)\n",
      "//anaconda3/envs/dsi/lib/python3.7/site-packages/sklearn/linear_model/logistic.py:947: ConvergenceWarning: lbfgs failed to converge. Increase the number of iterations.\n",
      "  \"of iterations.\", ConvergenceWarning)\n"
     ]
    },
    {
     "name": "stdout",
     "output_type": "stream",
     "text": [
      "Best Parameters: {'ct__tf__max_features': 4500, 'ct__tf__ngram_range': (1, 2), 'ct__tf__stop_words': 'english'}\n",
      "\n",
      "Best Model Score: 0.6705100379815518\n",
      "Model Train Score: 0.7821486706456864\n",
      "Model Test Score: 0.7164361269324654\n",
      "\n",
      "Confusion Matrix:\n",
      "[[927 301]\n",
      " [396 834]]\n"
     ]
    }
   ],
   "source": [
    "# Fit new model\n",
    "model_ct_lrtf, ct_lrtf_train, ct_lrtf_test, con_mat_ct_lrtf = fit_model(grid, X, y)"
   ]
  },
  {
   "cell_type": "markdown",
   "metadata": {},
   "source": [
    "The inclusion of all non-title parameters does not improve the model. Continue to test Lemmatized and Stemmed titles to check for improvement."
   ]
  },
  {
   "cell_type": "markdown",
   "metadata": {},
   "source": [
    "# NLP Shortened Titles"
   ]
  },
  {
   "cell_type": "markdown",
   "metadata": {},
   "source": [
    "### Test Lemmatized Titles"
   ]
  },
  {
   "cell_type": "code",
   "execution_count": 22,
   "metadata": {},
   "outputs": [
    {
     "data": {
      "text/plain": [
       "BernoulliNB(alpha=1.0, binarize=0.0, class_prior=None, fit_prior=True)"
      ]
     },
     "execution_count": 22,
     "metadata": {},
     "output_type": "execute_result"
    }
   ],
   "source": [
    "# Set features\n",
    "X = df[\"lem_title\"]\n",
    "y = df[\"target\"]\n",
    "\n",
    "# Get new train-test-split\n",
    "X_train, X_test, y_train, y_test = train_test_split(X,\n",
    "                                                    y,\n",
    "                                                    random_state = 42,\n",
    "                                                    stratify = y)\n",
    "\n",
    "# Examine Bernoulli with Count Vectorizer\n",
    "bnb_lem = BernoulliNB()\n",
    "cvec = CountVectorizer()\n",
    "\n",
    "X_train = cvec.fit_transform(X_train)\n",
    "X_test = cvec.transform(X_test)\n",
    "bnb_lem.fit(X_train, y_train)"
   ]
  },
  {
   "cell_type": "code",
   "execution_count": 23,
   "metadata": {},
   "outputs": [
    {
     "name": "stdout",
     "output_type": "stream",
     "text": [
      "Model Train Score: 0.8392566467715681\n",
      "Model Test Score: 0.7164361269324654\n",
      "\n",
      "Confusion Matrix:\n",
      "[[877 351]\n",
      " [346 884]]\n"
     ]
    }
   ],
   "source": [
    "# Print Train and Test scores\n",
    "print(f\"Model Train Score: {bnb_lem.score(X_train, y_train)}\")\n",
    "print(f\"Model Test Score: {bnb_lem.score(X_test, y_test)}\")\n",
    "print(\"\")\n",
    "print(\"Confusion Matrix:\")\n",
    "bnb_lem_train = bnb_lem.score(X_train, y_train)\n",
    "bnb_lem_test = bnb_lem.score(X_test, y_test)\n",
    "\n",
    "y_preds = bnb_lem.predict(X_test)\n",
    "con_mat_lem = confusion_matrix(y_test, y_preds)\n",
    "print(con_mat_lem)"
   ]
  },
  {
   "cell_type": "markdown",
   "metadata": {},
   "source": [
    "697 missed guesses. Our full title is better than the lemmatized title."
   ]
  },
  {
   "cell_type": "markdown",
   "metadata": {},
   "source": [
    "### Test Stemmed Titles"
   ]
  },
  {
   "cell_type": "code",
   "execution_count": 24,
   "metadata": {},
   "outputs": [
    {
     "data": {
      "text/plain": [
       "BernoulliNB(alpha=1.0, binarize=0.0, class_prior=None, fit_prior=True)"
      ]
     },
     "execution_count": 24,
     "metadata": {},
     "output_type": "execute_result"
    }
   ],
   "source": [
    "# Set features\n",
    "X = df[\"stem_title\"]\n",
    "y = df[\"target\"]\n",
    "\n",
    "# Get new train-test-split\n",
    "X_train, X_test, y_train, y_test = train_test_split(X,\n",
    "                                                    y,\n",
    "                                                    random_state = 42,\n",
    "                                                    stratify = y)\n",
    "\n",
    "# Examine Bernoulli with Count Vectorizer\n",
    "bnb_stem = BernoulliNB()\n",
    "cvec = CountVectorizer()\n",
    "\n",
    "X_train = cvec.fit_transform(X_train)\n",
    "X_test = cvec.transform(X_test)\n",
    "bnb_stem.fit(X_train, y_train)"
   ]
  },
  {
   "cell_type": "code",
   "execution_count": 25,
   "metadata": {},
   "outputs": [
    {
     "name": "stdout",
     "output_type": "stream",
     "text": [
      "Model Train Score: 0.8300325556158438\n",
      "Model Test Score: 0.7205044751830757\n",
      "\n",
      "Confusion Matrix:\n",
      "[[881 347]\n",
      " [340 890]]\n"
     ]
    }
   ],
   "source": [
    "# Print Train and Test scores\n",
    "print(f\"Model Train Score: {bnb_stem.score(X_train, y_train)}\")\n",
    "print(f\"Model Test Score: {bnb_stem.score(X_test, y_test)}\")\n",
    "print(\"\")\n",
    "print(\"Confusion Matrix:\")\n",
    "bnb_stem_train = bnb_stem.score(X_train, y_train)\n",
    "bnb_stem_test = bnb_stem.score(X_test, y_test)\n",
    "\n",
    "y_preds = bnb_stem.predict(X_test)\n",
    "con_mat_stem = confusion_matrix(y_test, y_preds)\n",
    "print(con_mat_stem)"
   ]
  },
  {
   "cell_type": "markdown",
   "metadata": {},
   "source": [
    "687 missed guesses. Our stemmed titles are just as effective as our full titles, but have a slightly reduced overfitness."
   ]
  },
  {
   "cell_type": "code",
   "execution_count": 26,
   "metadata": {},
   "outputs": [
    {
     "data": {
      "text/plain": [
       "{'cvec__max_df': 0.8,\n",
       " 'cvec__max_features': 3000,\n",
       " 'cvec__min_df': 2,\n",
       " 'cvec__ngram_range': (1, 1),\n",
       " 'cvec__stop_words': 'english'}"
      ]
     },
     "execution_count": 26,
     "metadata": {},
     "output_type": "execute_result"
    }
   ],
   "source": [
    "model_lrcv.best_params_"
   ]
  },
  {
   "cell_type": "markdown",
   "metadata": {},
   "source": [
    "# Decision Tree Models"
   ]
  },
  {
   "cell_type": "markdown",
   "metadata": {},
   "source": [
    "### Voting Classifier with AdaBoostClassifier, GradientBoostingClassifier, and DecisionTreeClassifier"
   ]
  },
  {
   "cell_type": "code",
   "execution_count": 27,
   "metadata": {},
   "outputs": [
    {
     "data": {
      "text/plain": [
       "GridSearchCV(cv=3, error_score='raise-deprecating',\n",
       "             estimator=Pipeline(memory=None,\n",
       "                                steps=[('cv',\n",
       "                                        CountVectorizer(analyzer='word',\n",
       "                                                        binary=False,\n",
       "                                                        decode_error='strict',\n",
       "                                                        dtype=<class 'numpy.int64'>,\n",
       "                                                        encoding='utf-8',\n",
       "                                                        input='content',\n",
       "                                                        lowercase=True,\n",
       "                                                        max_df=1.0,\n",
       "                                                        max_features=None,\n",
       "                                                        min_df=1,\n",
       "                                                        ngram_range=(1, 1),\n",
       "                                                        preprocessor=None,\n",
       "                                                        stop_words=None,\n",
       "                                                        strip_accents=None,\n",
       "                                                        token...\n",
       "                                                                                             presort=False,\n",
       "                                                                                             random_state=None,\n",
       "                                                                                             splitter='best'))],\n",
       "                                                         flatten_transform=True,\n",
       "                                                         n_jobs=None,\n",
       "                                                         voting='hard',\n",
       "                                                         weights=None))],\n",
       "                                verbose=False),\n",
       "             iid='warn', n_jobs=None,\n",
       "             param_grid={'cv__max_features': [3000, 5000],\n",
       "                         'vote__ada__base_estimator__max_depth': [1, 3],\n",
       "                         'vote__ada__n_estimators': [45, 55]},\n",
       "             pre_dispatch='2*n_jobs', refit=True, return_train_score=False,\n",
       "             scoring=None, verbose=0)"
      ]
     },
     "execution_count": 27,
     "metadata": {},
     "output_type": "execute_result"
    }
   ],
   "source": [
    "X_train, X_test, y_train, y_test = train_test_split(X, y, random_state = 42, stratify = y)\n",
    "\n",
    "vote = VotingClassifier([\n",
    "    ('ada', AdaBoostClassifier(base_estimator=DecisionTreeClassifier())),\n",
    "    ('gb', GradientBoostingClassifier()),\n",
    "    ('tree', DecisionTreeClassifier())\n",
    "])\n",
    "\n",
    "\n",
    "pipe = Pipeline([\n",
    "    (\"cv\", CountVectorizer()),\n",
    "    (\"vote\", vote)\n",
    "])\n",
    "\n",
    "\n",
    "pipe_params = {\n",
    "    \"cv__max_features\" : [3000, 5000],\n",
    "    \"vote__ada__n_estimators\" : [45, 55],\n",
    "    \"vote__ada__base_estimator__max_depth\" : [1, 3]\n",
    "}\n",
    "\n",
    "gs = GridSearchCV(pipe,\n",
    "                  pipe_params,\n",
    "                  cv = 3)\n",
    "\n",
    "gs.fit(X_train, y_train)"
   ]
  },
  {
   "cell_type": "code",
   "execution_count": 28,
   "metadata": {},
   "outputs": [
    {
     "name": "stdout",
     "output_type": "stream",
     "text": [
      "0.8247422680412371\n",
      "0.692432872253865\n"
     ]
    },
    {
     "data": {
      "text/plain": [
       "array([[917, 311],\n",
       "       [445, 785]])"
      ]
     },
     "execution_count": 28,
     "metadata": {},
     "output_type": "execute_result"
    }
   ],
   "source": [
    "print(gs.score(X_train, y_train))\n",
    "print(gs.score(X_test, y_test))\n",
    "\n",
    "y_preds = gs.predict(X_test)\n",
    "confusion_matrix(y_test, y_preds)"
   ]
  },
  {
   "cell_type": "markdown",
   "metadata": {},
   "source": [
    "# Create Visualizations"
   ]
  },
  {
   "cell_type": "markdown",
   "metadata": {},
   "source": [
    "Models:\n",
    "1. Logistic Regression Count Vectorizer\n",
    "2. Logistic Regression Term Frequency: Inverse Document Frequency\n",
    "3. Bernoulli Naive Bayes Count Vectorizer \n",
    "4. Multinomial Naive Bayes Term Frequency: Inverse Document Frequency\n",
    "5. Column Transformer LR Term Frequency: Inverse Document Frequency\n",
    "6. Bernoulli Naive Bayes Lem\n",
    "7. Bernoulli Naive Bayes Stem"
   ]
  },
  {
   "cell_type": "code",
   "execution_count": 29,
   "metadata": {},
   "outputs": [],
   "source": [
    "# Score Dictionary\n",
    "scores = {\n",
    "    \"LR-CV\" : [lrcv_train, lrcv_test, \"LR-CV\"],\n",
    "    \"LR-TFIDF\": [lrtf_train, lrtf_test, \"LR-TFIDF\"],\n",
    "    \"BNB-CV\" : [bnb_train, bnb_test, \"BNB-CV\"],\n",
    "    \"MNB-TFIDF\" : [mnb_train, mnb_test, \"MNB-TFIDF\"],\n",
    "    \"CT-LR-TFIDF\" : [ct_lrtf_train, ct_lrtf_test, \"CT-LR-TFIDF\"],\n",
    "    \"BNB-Lem\" : [bnb_lem_train, bnb_lem_test, \"BNB-Lem\"],\n",
    "    \"BNB-Stem\" : [bnb_stem_train, bnb_stem_test, \"BNB-Stem\"]\n",
    "}"
   ]
  },
  {
   "cell_type": "code",
   "execution_count": 30,
   "metadata": {},
   "outputs": [],
   "source": [
    "# Create DataFrame of scores\n",
    "scores_df = pd.DataFrame.from_dict(scores, orient = \"index\", columns = [\"train_score\", \"test_score\", \"model_type\"])"
   ]
  },
  {
   "cell_type": "markdown",
   "metadata": {},
   "source": [
    "### Barplot"
   ]
  },
  {
   "cell_type": "code",
   "execution_count": 31,
   "metadata": {},
   "outputs": [],
   "source": [
    "# Create Boxplot DataFrame\n",
    "bp = pd.DataFrame(data = scores.keys(), columns = [\"model_type\"])\n",
    "bp = pd.concat([bp, bp])"
   ]
  },
  {
   "cell_type": "code",
   "execution_count": 32,
   "metadata": {},
   "outputs": [
    {
     "name": "stderr",
     "output_type": "stream",
     "text": [
      "//anaconda3/envs/dsi/lib/python3.7/site-packages/ipykernel_launcher.py:21: SettingWithCopyWarning: \n",
      "A value is trying to be set on a copy of a slice from a DataFrame\n",
      "\n",
      "See the caveats in the documentation: http://pandas.pydata.org/pandas-docs/stable/user_guide/indexing.html#returning-a-view-versus-a-copy\n",
      "//anaconda3/envs/dsi/lib/python3.7/site-packages/ipykernel_launcher.py:22: SettingWithCopyWarning: \n",
      "A value is trying to be set on a copy of a slice from a DataFrame\n",
      "\n",
      "See the caveats in the documentation: http://pandas.pydata.org/pandas-docs/stable/user_guide/indexing.html#returning-a-view-versus-a-copy\n"
     ]
    }
   ],
   "source": [
    "# Get lists of training and testing scores\n",
    "trains = []\n",
    "tests = []\n",
    "for row in bp[\"model_type\"]:\n",
    "    trains.append(scores[row][0])\n",
    "    tests.append(scores[row][1])\n",
    "    \n",
    "# Create a DataFrame for training vs testing values\n",
    "trains = pd.DataFrame(trains)\n",
    "tests = pd.DataFrame(tests)\n",
    "\n",
    "trains = trains[:7]\n",
    "tests = tests[:7]\n",
    "\n",
    "# Create Scores column with training and testing scores\n",
    "bp[\"scores\"] = 0\n",
    "bp[\"scores\"] = pd.concat([trains, tests])\n",
    "\n",
    "# Create Score column with labels for scores\n",
    "bp[\"score\"] = 0\n",
    "bp[\"score\"][:7] = \"train\"\n",
    "bp[\"score\"][7:] = \"test\""
   ]
  },
  {
   "cell_type": "code",
   "execution_count": 33,
   "metadata": {},
   "outputs": [
    {
     "data": {
      "image/png": "[encoded data removed]",
      "text/plain": [
       "<Figure size 720x360 with 1 Axes>"
      ]
     },
     "metadata": {
      "needs_background": "light"
     },
     "output_type": "display_data"
    }
   ],
   "source": [
    "plt.figure(figsize = (10, 5))\n",
    "sns.barplot(data = bp, x = \"model_type\", y = \"scores\", hue = \"score\")\n",
    "plt.title(\"Train vs Test Scores\")\n",
    "plt.ylim(.65, .86)\n",
    "plt.xlabel(\"Model Type\")\n",
    "plt.ylabel(\"Score\")\n",
    "plt.savefig(\"../images/model_scores.png\")"
   ]
  },
  {
   "cell_type": "markdown",
   "metadata": {},
   "source": [
    "### Visualize Over/Under Fitness"
   ]
  },
  {
   "cell_type": "code",
   "execution_count": 34,
   "metadata": {},
   "outputs": [],
   "source": [
    "# Create a column with differences\n",
    "scores_df[\"dif\"] = scores_df[\"train_score\"] - scores_df[\"test_score\"]"
   ]
  },
  {
   "cell_type": "code",
   "execution_count": 35,
   "metadata": {},
   "outputs": [
    {
     "data": {
      "image/png": "[encoded data removed]",
      "text/plain": [
       "<Figure size 720x360 with 1 Axes>"
      ]
     },
     "metadata": {
      "needs_background": "light"
     },
     "output_type": "display_data"
    }
   ],
   "source": [
    "plt.figure(figsize = (10, 5))\n",
    "sns.barplot(x = \"model_type\", y = \"dif\", data = scores_df)\n",
    "plt.xlabel(\"Model Type\")\n",
    "plt.ylabel(\"Train-Test Difference\")\n",
    "plt.savefig(\"../images/model_fit.png\")"
   ]
  },
  {
   "cell_type": "code",
   "execution_count": null,
   "metadata": {},
   "outputs": [],
   "source": []
  }
 ],
 "metadata": {
  "kernelspec": {
   "display_name": "Python 3",
   "language": "python",
   "name": "python3"
  },
  "language_info": {
   "codemirror_mode": {
    "name": "ipython",
    "version": 3
   },
   "file_extension": ".py",
   "mimetype": "text/x-python",
   "name": "python",
   "nbconvert_exporter": "python",
   "pygments_lexer": "ipython3",
   "version": "3.7.4"
  }
 },
 "nbformat": 4,
 "nbformat_minor": 2
}
